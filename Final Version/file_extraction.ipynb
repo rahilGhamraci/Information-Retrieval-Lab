{
 "cells": [
  {
   "cell_type": "code",
   "execution_count": 2,
   "metadata": {},
   "outputs": [],
   "source": [
    "import os"
   ]
  },
  {
   "cell_type": "code",
   "execution_count": 3,
   "metadata": {},
   "outputs": [
    {
     "name": "stdout",
     "output_type": "stream",
     "text": [
      "Extraction complete. Files saved in the folder: Collection\n"
     ]
    }
   ],
   "source": [
    "# Open and read the MED.ALL file\n",
    "with open(\"MED.ALL\", \"r\") as file:\n",
    "    lines = file.readlines()\n",
    "\n",
    "# Initialize variables\n",
    "current_id = None\n",
    "current_text = []\n",
    "output_folder = \"Collection\"  # Folder to save the files\n",
    "\n",
    "# Create the output folder if it doesn't exist\n",
    "\n",
    "if not os.path.exists(output_folder):\n",
    "    os.makedirs(output_folder)\n",
    "\n",
    "# Process the lines\n",
    "for line in lines:\n",
    "    # Check for lines starting with .I (indicating a new document)\n",
    "    if line.startswith(\".I \"):\n",
    "        # If there is an ongoing document, save it to a file\n",
    "        if current_id is not None:\n",
    "            with open(os.path.join(output_folder, f\"D{current_id}.txt\"), \"w\") as output_file:\n",
    "                output_file.write(\"\".join(current_text))\n",
    "        \n",
    "        # Start a new document\n",
    "        current_id = line.split()[1]  # Get the ID number after .I\n",
    "        current_text = []  # Reset the text buffer\n",
    "    elif line.startswith(\".W\"):\n",
    "        # Skip lines starting with .W\n",
    "        continue\n",
    "    \n",
    "    else:\n",
    "        # Add the line to the current document text\n",
    "        current_text.append(line)\n",
    "\n",
    "# Save the last document\n",
    "if current_id is not None:\n",
    "    with open(os.path.join(output_folder, f\"D{current_id}.txt\"), \"w\") as output_file:\n",
    "        output_file.write(\"\".join(current_text))\n",
    "\n",
    "print(f\"Extraction complete. Files saved in the folder: {output_folder}\")\n"
   ]
  }
 ],
 "metadata": {
  "kernelspec": {
   "display_name": "Python 3",
   "language": "python",
   "name": "python3"
  },
  "language_info": {
   "codemirror_mode": {
    "name": "ipython",
    "version": 3
   },
   "file_extension": ".py",
   "mimetype": "text/x-python",
   "name": "python",
   "nbconvert_exporter": "python",
   "pygments_lexer": "ipython3",
   "version": "3.10.7"
  }
 },
 "nbformat": 4,
 "nbformat_minor": 2
}
